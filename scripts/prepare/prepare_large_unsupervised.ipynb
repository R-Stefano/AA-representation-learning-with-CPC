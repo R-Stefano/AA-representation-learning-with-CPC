{
 "cells": [
  {
   "cell_type": "code",
   "execution_count": 1,
   "metadata": {},
   "outputs": [],
   "source": [
    "import pandas as pd\n",
    "import yaml\n",
    "import numpy as np\n",
    "import os\n",
    "import time\n",
    "\n",
    "with open('../../hyperparams.yml') as f:\n",
    "    configs=yaml.safe_load(f)\n",
    "    \n",
    "with open('../../data/dataset_config.yaml') as f:\n",
    "    dataset_configs=yaml.safe_load(f)\n",
    "\n",
    "data_dir=configs['data_dir']\n",
    "raw_files_dir='raw/old_clusters/'\n",
    "max_length=dataset_configs['sequence_length']\n",
    "aa_vocabulary=dataset_configs['aa_vocabulary']\n",
    "\n",
    "\n",
    "destination_dir='dataset/unsupervised_large_clusters/'"
   ]
  },
  {
   "cell_type": "code",
   "execution_count": 2,
   "metadata": {},
   "outputs": [],
   "source": [
    "import h5py\n",
    "hdf5_file = h5py.File(data_dir+destination_dir+\"dataset.hdf5\", \"w\")\n",
    "sequences_encoded = hdf5_file.create_dataset(\"sequences\", (10000000, 512), compression=\"gzip\", dtype='i8')"
   ]
  },
  {
   "cell_type": "markdown",
   "metadata": {},
   "source": [
    "# Soft Dataset"
   ]
  },
  {
   "cell_type": "code",
   "execution_count": 3,
   "metadata": {},
   "outputs": [
    {
     "name": "stdout",
     "output_type": "stream",
     "text": [
      "\n",
      "Processing dataset_uniref_50_3.csv\n",
      "85952\n",
      "\n",
      "Processing dataset_uniref_50_7.csv\n",
      "88568\n",
      "\n",
      "Processing dataset_uniref_50_1.csv\n",
      "87792\n",
      "\n",
      "Processing dataset_uniref_50_4.csv\n",
      "87427\n",
      "\n",
      "Processing dataset_uniref_50_2.csv\n",
      "88784\n",
      "\n",
      "Processing dataset_uniref_50_5.csv\n",
      "88256\n",
      "\n",
      "Processing dataset_uniref_50_6.csv\n",
      "82554\n",
      "Total number of records: 609333\n",
      "Total number of cluster references: 609333\n",
      "Total number of sequence references: 609333\n"
     ]
    }
   ],
   "source": [
    "clusters_refs=pd.DataFrame()\n",
    "sequences_ids=pd.DataFrame()\n",
    "\n",
    "pointer=0\n",
    "for filename in os.listdir(data_dir+raw_files_dir):\n",
    "    print('\\nProcessing', filename)\n",
    "    \n",
    "    data=pd.read_csv(data_dir+raw_files_dir+filename)\n",
    "    \n",
    "    #compute length and remove too long seqs\n",
    "    data=data[data['sequence'].str.len()<(max_length-2)]\n",
    "    \n",
    "    data=data.groupby('cluster_ref').first().reset_index()\n",
    "\n",
    "    batch_size=len(data)\n",
    "    print(batch_size)\n",
    "    \n",
    "    clusters_refs=pd.concat([clusters_refs, data['cluster_ref']], ignore_index=True)\n",
    "    sequences_ids=pd.concat([sequences_ids, data['entry_id']], ignore_index=True)\n",
    "    \n",
    "    \n",
    "    batch_encoded=np.zeros((len(data), max_length), dtype=np.int8)\n",
    "    \n",
    "    seq_idx=0\n",
    "    for row in data.itertuples():\n",
    "        aa_seq=row.sequence\n",
    "        \n",
    "        seq_encoded=np.zeros((max_length), dtype=np.int8)\n",
    "        \n",
    "        seq_encoded[0]=aa_vocabulary['<BOS>']\n",
    "\n",
    "        for aa_idx, aa in enumerate(aa_seq):\n",
    "            if aa not in aa_vocabulary:\n",
    "                aa_token=aa_vocabulary['X']\n",
    "            else:\n",
    "                aa_token=aa_vocabulary[aa]\n",
    "                \n",
    "            seq_encoded[aa_idx+1]=aa_token\n",
    "        \n",
    "        seq_encoded[aa_idx+2]=aa_vocabulary['<EOS>']\n",
    "        \n",
    "        batch_encoded[seq_idx]=seq_encoded\n",
    "        seq_idx += 1\n",
    "        \n",
    "    sequences_encoded[pointer:pointer+batch_size]=batch_encoded\n",
    "\n",
    "    pointer+=batch_size\n",
    "\n",
    "print('Total number of records:', pointer)\n",
    "print('Total number of cluster references:', len(clusters_refs))\n",
    "print('Total number of sequence references:', len(sequences_ids))"
   ]
  },
  {
   "cell_type": "markdown",
   "metadata": {},
   "source": [
    "# Complete dataset"
   ]
  },
  {
   "cell_type": "code",
   "execution_count": null,
   "metadata": {},
   "outputs": [],
   "source": [
    "clusters_refs=pd.DataFrame()\n",
    "sequences_ids=pd.DataFrame()\n",
    "\n",
    "pointer=0\n",
    "for filename in os.listdir(data_dir+raw_files_dir):\n",
    "    print('\\nProcessing', filename)\n",
    "    \n",
    "    data=pd.read_csv(data_dir+raw_files_dir+filename)\n",
    "    \n",
    "    #compute length and remove too long seqs\n",
    "    data=data[data['sequence'].str.len()<(max_length-2)]\n",
    "    \n",
    "    batch_size=len(data)\n",
    "    print(batch_size)\n",
    "    \n",
    "    clusters_refs=pd.concat([clusters_refs, data['cluster_ref']], ignore_index=True)\n",
    "    sequences_ids=pd.concat([sequences_ids, data['entry_id']], ignore_index=True)\n",
    "    \n",
    "    \n",
    "    batch_encoded=np.zeros((len(data), max_length), dtype=np.int8)\n",
    "    \n",
    "    seq_idx=0\n",
    "    for row in data.itertuples():\n",
    "        aa_seq=row.sequence\n",
    "        \n",
    "        seq_encoded=np.zeros((max_length), dtype=np.int8)\n",
    "        \n",
    "        seq_encoded[0]=aa_vocabulary['<BOS>']\n",
    "\n",
    "        for aa_idx, aa in enumerate(aa_seq):\n",
    "            if aa not in aa_vocabulary:\n",
    "                aa_token=aa_vocabulary['X']\n",
    "            else:\n",
    "                aa_token=aa_vocabulary[aa]\n",
    "                \n",
    "            seq_encoded[aa_idx+1]=aa_token\n",
    "        \n",
    "        seq_encoded[aa_idx+2]=aa_vocabulary['<EOS>']\n",
    "        \n",
    "        batch_encoded[seq_idx]=seq_encoded\n",
    "        seq_idx += 1\n",
    "        \n",
    "    sequences_encoded[pointer:pointer+batch_size]=batch_encoded\n",
    "\n",
    "    pointer+=batch_size\n",
    "\n",
    "print('Total number of records:', pointer)\n",
    "print('Total number of cluster references:', len(clusters_refs))\n",
    "print('Total number of sequence references:', len(sequences_ids))"
   ]
  },
  {
   "cell_type": "markdown",
   "metadata": {},
   "source": [
    "# Finalize"
   ]
  },
  {
   "cell_type": "code",
   "execution_count": 6,
   "metadata": {},
   "outputs": [
    {
     "name": "stdout",
     "output_type": "stream",
     "text": [
      "(609333, 512)\n"
     ]
    }
   ],
   "source": [
    "sequences_encoded.resize((pointer, max_length))\n",
    "print(sequences_encoded.shape)\n",
    "hdf5_file.close()"
   ]
  },
  {
   "cell_type": "code",
   "execution_count": 8,
   "metadata": {},
   "outputs": [],
   "source": [
    "clusters_refs.columns=['cluster_ref']\n",
    "clusters_refs.to_csv(data_dir+destination_dir+'clusters_refs.csv', index=False)"
   ]
  },
  {
   "cell_type": "code",
   "execution_count": 9,
   "metadata": {},
   "outputs": [],
   "source": [
    "sequences_ids.columns=['sequence_id']\n",
    "sequences_ids.to_csv(data_dir+destination_dir+'sequences_ids.csv', index=False)"
   ]
  },
  {
   "cell_type": "code",
   "execution_count": null,
   "metadata": {},
   "outputs": [],
   "source": []
  }
 ],
 "metadata": {
  "kernelspec": {
   "display_name": "Python 3",
   "language": "python",
   "name": "python3"
  },
  "language_info": {
   "codemirror_mode": {
    "name": "ipython",
    "version": 3
   },
   "file_extension": ".py",
   "mimetype": "text/x-python",
   "name": "python",
   "nbconvert_exporter": "python",
   "pygments_lexer": "ipython3",
   "version": "3.6.8"
  }
 },
 "nbformat": 4,
 "nbformat_minor": 2
}
