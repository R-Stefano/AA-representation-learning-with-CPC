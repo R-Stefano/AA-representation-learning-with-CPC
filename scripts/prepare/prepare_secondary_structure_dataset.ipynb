{
 "cells": [
  {
   "cell_type": "code",
   "execution_count": 1,
   "metadata": {},
   "outputs": [],
   "source": [
    "import pandas as pd\n",
    "import yaml\n",
    "import numpy as np\n",
    "\n",
    "with open('../../hyperparams.yml') as f:\n",
    "    configs=yaml.safe_load(f)\n",
    "    \n",
    "with open('../../data/dataset_config.yaml') as f:\n",
    "    dataset_configs=yaml.safe_load(f)\n",
    "\n",
    "data_dir=configs['data_dir']\n",
    "dataset_name='secondary_structures.csv'"
   ]
  },
  {
   "cell_type": "code",
   "execution_count": 2,
   "metadata": {},
   "outputs": [
    {
     "data": {
      "text/html": [
       "<div>\n",
       "<style scoped>\n",
       "    .dataframe tbody tr th:only-of-type {\n",
       "        vertical-align: middle;\n",
       "    }\n",
       "\n",
       "    .dataframe tbody tr th {\n",
       "        vertical-align: top;\n",
       "    }\n",
       "\n",
       "    .dataframe thead th {\n",
       "        text-align: right;\n",
       "    }\n",
       "</style>\n",
       "<table border=\"1\" class=\"dataframe\">\n",
       "  <thead>\n",
       "    <tr style=\"text-align: right;\">\n",
       "      <th></th>\n",
       "      <th>pdb_id</th>\n",
       "      <th>chain_code</th>\n",
       "      <th>seq</th>\n",
       "      <th>sst8</th>\n",
       "      <th>sst3</th>\n",
       "      <th>len</th>\n",
       "      <th>has_nonstd_aa</th>\n",
       "    </tr>\n",
       "  </thead>\n",
       "  <tbody>\n",
       "    <tr>\n",
       "      <td>0</td>\n",
       "      <td>1A30</td>\n",
       "      <td>C</td>\n",
       "      <td>EDL</td>\n",
       "      <td>CBC</td>\n",
       "      <td>CEC</td>\n",
       "      <td>3</td>\n",
       "      <td>False</td>\n",
       "    </tr>\n",
       "    <tr>\n",
       "      <td>1</td>\n",
       "      <td>1B05</td>\n",
       "      <td>B</td>\n",
       "      <td>KCK</td>\n",
       "      <td>CBC</td>\n",
       "      <td>CEC</td>\n",
       "      <td>3</td>\n",
       "      <td>False</td>\n",
       "    </tr>\n",
       "    <tr>\n",
       "      <td>2</td>\n",
       "      <td>1B0H</td>\n",
       "      <td>B</td>\n",
       "      <td>KAK</td>\n",
       "      <td>CBC</td>\n",
       "      <td>CEC</td>\n",
       "      <td>3</td>\n",
       "      <td>False</td>\n",
       "    </tr>\n",
       "    <tr>\n",
       "      <td>3</td>\n",
       "      <td>1B1H</td>\n",
       "      <td>B</td>\n",
       "      <td>KFK</td>\n",
       "      <td>CBC</td>\n",
       "      <td>CEC</td>\n",
       "      <td>3</td>\n",
       "      <td>False</td>\n",
       "    </tr>\n",
       "    <tr>\n",
       "      <td>4</td>\n",
       "      <td>1B2H</td>\n",
       "      <td>B</td>\n",
       "      <td>KAK</td>\n",
       "      <td>CBC</td>\n",
       "      <td>CEC</td>\n",
       "      <td>3</td>\n",
       "      <td>False</td>\n",
       "    </tr>\n",
       "  </tbody>\n",
       "</table>\n",
       "</div>"
      ],
      "text/plain": [
       "  pdb_id chain_code  seq sst8 sst3  len  has_nonstd_aa\n",
       "0   1A30          C  EDL  CBC  CEC    3          False\n",
       "1   1B05          B  KCK  CBC  CEC    3          False\n",
       "2   1B0H          B  KAK  CBC  CEC    3          False\n",
       "3   1B1H          B  KFK  CBC  CEC    3          False\n",
       "4   1B2H          B  KAK  CBC  CEC    3          False"
      ]
     },
     "execution_count": 2,
     "metadata": {},
     "output_type": "execute_result"
    }
   ],
   "source": [
    "dataset_secondary=pd.read_csv(data_dir+'raw/'+dataset_name)\n",
    "validation_dataset=pd.read_csv(data_dir+'raw/csv/validation.csv')\n",
    "train_dataset=pd.read_csv(data_dir+'raw/csv/training_30.csv')\n",
    "test_dataset=pd.read_csv(data_dir+'raw/csv/testing.csv')\n",
    "\n",
    "dataset_secondary.head()"
   ]
  },
  {
   "cell_type": "code",
   "execution_count": 3,
   "metadata": {},
   "outputs": [],
   "source": [
    "max_length=512\n"
   ]
  },
  {
   "cell_type": "code",
   "execution_count": 4,
   "metadata": {},
   "outputs": [],
   "source": [
    "def prepareInput(dataset, dataset_secondary):\n",
    "    new_dataset=dataset.merge(dataset_secondary, left_on=['pdb_id', 'seqs'], right_on=['pdb_id', 'seq'], how='left').dropna()\n",
    "    \n",
    "    new_dataset=new_dataset.groupby('seqs', as_index=False).first()\n",
    "    \n",
    "    new_dataset=new_dataset[new_dataset['len']<=(max_length-2)]\n",
    "    new_dataset=new_dataset[['pdb_id', 'seqs', 'sst8', 'sst3']]\n",
    "    \n",
    "    return new_dataset\n",
    "\n",
    "def encodeInputs(dataset, aa_voc):\n",
    "    encoded_seqs=[]\n",
    "\n",
    "    for seq in dataset:\n",
    "        encoded_seq=[aa_voc['<BOS>']]\n",
    "        \n",
    "        for aa in seq:\n",
    "            encoded_seq.append(aa_voc[aa])\n",
    "            \n",
    "        encoded_seq.append(aa_voc['<EOS>'])\n",
    "\n",
    "        while not len(encoded_seq)==(max_length):\n",
    "            encoded_seq.append(aa_voc['<PAD>'])\n",
    "        encoded_seqs.append(encoded_seq)\n",
    "\n",
    "    encoded_seqs=np.stack(encoded_seqs)\n",
    "    print(encoded_seqs.shape)\n",
    "    return encoded_seqs\n",
    "\n",
    "def encodeLabels(dataset, labels_voc):\n",
    "    encoded_labels=[]\n",
    "    \n",
    "    for seq in dataset:\n",
    "        encoded_lab=[labels_voc['<PAD>']]\n",
    "        \n",
    "        for label in seq:\n",
    "            encoded_lab.append(labels_voc[label])\n",
    "        \n",
    "        while not len(encoded_lab)==(max_length):\n",
    "            encoded_lab.append(labels_voc['<PAD>'])\n",
    "\n",
    "        encoded_labels.append(encoded_lab)\n",
    "        \n",
    "    encoded_labels=np.stack(encoded_labels)\n",
    "    print(encoded_labels.shape)\n",
    "    return encoded_labels"
   ]
  },
  {
   "cell_type": "code",
   "execution_count": 5,
   "metadata": {},
   "outputs": [
    {
     "name": "stdout",
     "output_type": "stream",
     "text": [
      "19162\n"
     ]
    }
   ],
   "source": [
    "dataset=prepareInput(train_dataset, dataset_secondary)\n",
    "print(len(dataset))"
   ]
  },
  {
   "cell_type": "markdown",
   "metadata": {},
   "source": [
    "# Generate dictionaries"
   ]
  },
  {
   "cell_type": "code",
   "execution_count": 6,
   "metadata": {},
   "outputs": [
    {
     "name": "stdout",
     "output_type": "stream",
     "text": [
      "{'<BOS>': 21, '<EOS>': 22, '<PAD>': 0, 'A': 2, 'C': 11, 'D': 19, 'E': 16, 'F': 8, 'G': 9, 'H': 20, 'I': 7, 'K': 13, 'L': 12, 'M': 1, 'N': 15, 'P': 10, 'Q': 5, 'R': 14, 'S': 6, 'T': 3, 'V': 4, 'W': 17, 'Y': 18}\n"
     ]
    }
   ],
   "source": [
    "aa_voc=dataset_configs['aa_vocabulary']\n",
    "print(aa_voc)"
   ]
  },
  {
   "cell_type": "code",
   "execution_count": 7,
   "metadata": {},
   "outputs": [
    {
     "name": "stdout",
     "output_type": "stream",
     "text": [
      "{'<PAD>': 0, 'C': 1, 'H': 2, 'E': 3}\n",
      "{'<PAD>': 0, 'C': 1, 'H': 2, 'T': 3, 'S': 4, 'B': 5, 'E': 6, 'G': 7, 'I': 8}\n"
     ]
    }
   ],
   "source": [
    "labels=dataset['sst3'].tolist()\n",
    "labels_sst3_voc={'<PAD>':0}\n",
    "for seq in labels:\n",
    "    for label in seq:\n",
    "        if label not in labels_sst3_voc:\n",
    "            labels_sst3_voc[label]=len(labels_sst3_voc)\n",
    "\n",
    "print(labels_sst3_voc)\n",
    "\n",
    "labels=dataset['sst8'].tolist()\n",
    "labels_sst8_voc={'<PAD>':0}\n",
    "for seq in labels:\n",
    "    for label in seq:\n",
    "        if label not in labels_sst8_voc:\n",
    "            labels_sst8_voc[label]=len(labels_sst8_voc)\n",
    "            \n",
    "print(labels_sst8_voc)"
   ]
  },
  {
   "cell_type": "markdown",
   "metadata": {},
   "source": [
    "# Prepare train dataset"
   ]
  },
  {
   "cell_type": "code",
   "execution_count": 8,
   "metadata": {},
   "outputs": [
    {
     "name": "stdout",
     "output_type": "stream",
     "text": [
      "(19162, 512)\n",
      "(19162, 512)\n",
      "(19162, 512)\n"
     ]
    }
   ],
   "source": [
    "#encode aa seqs\n",
    "encoded_inputs=encodeInputs(dataset['seqs'].tolist(), aa_voc)\n",
    "\n",
    "#encode labels 3\n",
    "encoded_sst3_labels=encodeLabels(dataset['sst3'].tolist(), labels_sst3_voc)\n",
    "\n",
    "#encode labels 8\n",
    "encoded_sst8_labels=encodeLabels(dataset['sst8'].tolist(), labels_sst8_voc)"
   ]
  },
  {
   "cell_type": "code",
   "execution_count": 9,
   "metadata": {},
   "outputs": [],
   "source": [
    "dataset_1=np.asarray([encoded_inputs, encoded_sst3_labels])\n",
    "np.save(data_dir+'dataset/secondary_structure/training_sst3.npy', dataset_1)\n",
    "\n",
    "dataset_2=np.asarray([encoded_inputs, encoded_sst8_labels])\n",
    "np.save(data_dir+'dataset/secondary_structure/training_sst8.npy', dataset_2)"
   ]
  },
  {
   "cell_type": "markdown",
   "metadata": {},
   "source": [
    "# Prepare validation dataset"
   ]
  },
  {
   "cell_type": "code",
   "execution_count": 10,
   "metadata": {},
   "outputs": [],
   "source": [
    "dataset=prepareInput(validation_dataset, dataset_secondary)"
   ]
  },
  {
   "cell_type": "code",
   "execution_count": 11,
   "metadata": {},
   "outputs": [
    {
     "name": "stdout",
     "output_type": "stream",
     "text": [
      "(204, 512)\n",
      "(204, 512)\n",
      "(204, 512)\n"
     ]
    }
   ],
   "source": [
    "#encode aa seqs\n",
    "encoded_inputs=encodeInputs(dataset['seqs'].tolist(), aa_voc)\n",
    "\n",
    "#encode labels 3\n",
    "encoded_sst3_labels=encodeLabels(dataset['sst3'].tolist(), labels_sst3_voc)\n",
    "\n",
    "#encode labels 8\n",
    "encoded_sst8_labels=encodeLabels(dataset['sst8'].tolist(), labels_sst8_voc)"
   ]
  },
  {
   "cell_type": "code",
   "execution_count": 12,
   "metadata": {},
   "outputs": [],
   "source": [
    "dataset_1=np.asarray([encoded_inputs, encoded_sst3_labels])\n",
    "np.save(data_dir+'dataset/secondary_structure/validating_sst3.npy', dataset_1)\n",
    "\n",
    "dataset_2=np.asarray([encoded_inputs, encoded_sst8_labels])\n",
    "np.save(data_dir+'dataset/secondary_structure/validating_sst8.npy', dataset_2)"
   ]
  },
  {
   "cell_type": "code",
   "execution_count": null,
   "metadata": {},
   "outputs": [],
   "source": []
  }
 ],
 "metadata": {
  "kernelspec": {
   "display_name": "Python 3",
   "language": "python",
   "name": "python3"
  },
  "language_info": {
   "codemirror_mode": {
    "name": "ipython",
    "version": 3
   },
   "file_extension": ".py",
   "mimetype": "text/x-python",
   "name": "python",
   "nbconvert_exporter": "python",
   "pygments_lexer": "ipython3",
   "version": "3.6.8"
  }
 },
 "nbformat": 4,
 "nbformat_minor": 2
}
