{
 "cells": [
  {
   "cell_type": "code",
   "execution_count": 1,
   "metadata": {},
   "outputs": [],
   "source": [
    "import pandas as pd\n",
    "import yaml\n",
    "import numpy as np\n",
    "import os\n",
    "import time\n",
    "\n",
    "with open('../../hyperparams.yml') as f:\n",
    "    configs=yaml.safe_load(f)\n",
    "    \n",
    "with open('../../data/dataset_config.yaml') as f:\n",
    "    dataset_configs=yaml.safe_load(f)\n",
    "\n",
    "data_dir=configs['data_dir']\n",
    "raw_files_dir='raw/clusters/'\n",
    "max_length=dataset_configs['sequence_length']\n",
    "aa_vocabulary=dataset_configs['aa_vocabulary']"
   ]
  },
  {
   "cell_type": "code",
   "execution_count": 2,
   "metadata": {},
   "outputs": [],
   "source": [
    "import h5py\n",
    "hdf5_file = h5py.File(data_dir+\"test.hdf5\", \"w\")\n",
    "sequences_encoded = hdf5_file.create_dataset(\"sequences\", (10000000, 512), compression=\"gzip\", dtype='i8')"
   ]
  },
  {
   "cell_type": "code",
   "execution_count": 3,
   "metadata": {},
   "outputs": [
    {
     "name": "stdout",
     "output_type": "stream",
     "text": [
      "\n",
      "Processing dataset_uniref_50_3.csv\n",
      "317208\n",
      "\n",
      "Processing dataset_uniref_50_7.csv\n",
      "504354\n",
      "\n",
      "Processing dataset_uniref_50_1.csv\n",
      "581907\n",
      "\n",
      "Processing dataset_uniref_50_4.csv\n",
      "469936\n",
      "\n",
      "Processing dataset_uniref_50_2.csv\n",
      "362271\n",
      "\n",
      "Processing dataset_uniref_50_5.csv\n",
      "668075\n",
      "\n",
      "Processing dataset_uniref_50_6.csv\n",
      "435248\n",
      "Total number of records: 3338999\n",
      "Total number of references: 3338999\n"
     ]
    }
   ],
   "source": [
    "sequences_refs=pd.DataFrame()\n",
    "\n",
    "destination_dir='dataset/unsupervised_large/'\n",
    "pointer=0\n",
    "for filename in os.listdir(data_dir+raw_files_dir):\n",
    "    print('\\nProcessing', filename)\n",
    "    \n",
    "    data=pd.read_csv(data_dir+raw_files_dir+filename)\n",
    "    \n",
    "    #compute length and remove too long seqs\n",
    "    data=data[data['sequence'].str.len()<(max_length-2)]\n",
    "    \n",
    "    batch_size=len(data)\n",
    "    print(batch_size)\n",
    "    \n",
    "    sequences_refs=pd.concat([sequences_refs, data['cluster_ref']], ignore_index=True)\n",
    "    \n",
    "    batch_encoded=np.zeros((len(data), max_length), dtype=np.int8)\n",
    "    \n",
    "    seq_idx=0\n",
    "    for row in data.itertuples():\n",
    "        aa_seq=row.sequence\n",
    "        \n",
    "        seq_encoded=np.zeros((max_length), dtype=np.int8)\n",
    "        \n",
    "        seq_encoded[0]=aa_vocabulary['<BOS>']\n",
    "\n",
    "        for aa_idx, aa in enumerate(aa_seq):\n",
    "            if aa not in aa_vocabulary:\n",
    "                aa_token=aa_vocabulary['X']\n",
    "            else:\n",
    "                aa_token=aa_vocabulary[aa]\n",
    "                \n",
    "            seq_encoded[aa_idx+1]=aa_token\n",
    "        \n",
    "        seq_encoded[aa_idx+2]=aa_vocabulary['<EOS>']\n",
    "        \n",
    "        batch_encoded[seq_idx]=seq_encoded\n",
    "        seq_idx += 1\n",
    "        \n",
    "    sequences_encoded[pointer:pointer+batch_size]=batch_encoded\n",
    "\n",
    "    pointer+=batch_size\n",
    "\n",
    "print('Total number of records:', pointer)\n",
    "print('Total number of references:', len(sequences_refs))"
   ]
  },
  {
   "cell_type": "code",
   "execution_count": 4,
   "metadata": {},
   "outputs": [],
   "source": [
    "sequences_encoded.resize((pointer, max_length))\n",
    "hdf5_file.close()"
   ]
  },
  {
   "cell_type": "code",
   "execution_count": 5,
   "metadata": {},
   "outputs": [],
   "source": [
    "sequences_refs.columns=['cluster_ref']\n",
    "sequences_refs.to_csv(data_dir+'cluster_refs.csv', index=False)"
   ]
  },
  {
   "cell_type": "code",
   "execution_count": null,
   "metadata": {},
   "outputs": [],
   "source": []
  },
  {
   "cell_type": "code",
   "execution_count": null,
   "metadata": {},
   "outputs": [],
   "source": []
  }
 ],
 "metadata": {
  "kernelspec": {
   "display_name": "Python 3",
   "language": "python",
   "name": "python3"
  },
  "language_info": {
   "codemirror_mode": {
    "name": "ipython",
    "version": 3
   },
   "file_extension": ".py",
   "mimetype": "text/x-python",
   "name": "python",
   "nbconvert_exporter": "python",
   "pygments_lexer": "ipython3",
   "version": "3.6.8"
  }
 },
 "nbformat": 4,
 "nbformat_minor": 2
}
